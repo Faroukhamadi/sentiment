{
 "cells": [
  {
   "attachments": {},
   "cell_type": "markdown",
   "metadata": {},
   "source": [
    "# *Sentiment Analysis of Movie Reviews*"
   ]
  },
  {
   "cell_type": "code",
   "execution_count": 1,
   "metadata": {},
   "outputs": [],
   "source": [
    "import numpy as np\n",
    "import matplotlib.pyplot as plt\n",
    "from numpy.typing import NDArray\n",
    "from typing import List, Tuple, Dict"
   ]
  },
  {
   "cell_type": "code",
   "execution_count": 2,
   "metadata": {},
   "outputs": [],
   "source": [
    "Data = List[Tuple[str, int]]\n",
    "def load_data(path: str) -> Data:\n",
    "  data = open(path, encoding='latin-1').read().splitlines() \n",
    "  training_data: Data = []\n",
    "  for sentence in data:\n",
    "    training_data.append((sentence[3:], int(sentence[:2])))\n",
    "  return training_data"
   ]
  },
  {
   "attachments": {},
   "cell_type": "markdown",
   "metadata": {},
   "source": [
    "### Benchmarking load_data function"
   ]
  },
  {
   "cell_type": "code",
   "execution_count": 3,
   "metadata": {},
   "outputs": [
    {
     "data": {
      "text/plain": [
       "1.287033023000049"
      ]
     },
     "execution_count": 3,
     "metadata": {},
     "output_type": "execute_result"
    }
   ],
   "source": [
    "import timeit\n",
    "timeit.timeit(\"load_data('polarity.train')\", globals=locals(), number=1000)"
   ]
  },
  {
   "attachments": {},
   "cell_type": "markdown",
   "metadata": {},
   "source": [
    "### Load training data"
   ]
  },
  {
   "cell_type": "code",
   "execution_count": 4,
   "metadata": {
    "tags": []
   },
   "outputs": [],
   "source": [
    "training_data = load_data('polarity.train')"
   ]
  },
  {
   "attachments": {},
   "cell_type": "markdown",
   "metadata": {},
   "source": [
    "### Represent $\\phi(x)$ as mapping from word $x$ to number of times it appears in the sentence, $\\phi(x) = \\{x_1: n_1, x_2: n_2, \\dots, x_n: n_n\\}$"
   ]
  },
  {
   "cell_type": "code",
   "execution_count": 5,
   "metadata": {
    "tags": []
   },
   "outputs": [
    {
     "data": {
      "text/plain": [
       "{'with': 1, 'are': 1, 'random': 2, 'string': 1, 'repetititions': 1, 'that': 1}"
      ]
     },
     "execution_count": 5,
     "metadata": {},
     "output_type": "execute_result"
    }
   ],
   "source": [
    "def extractFeatures(s: str) -> Dict[str, int]:\n",
    "  return {w: s.count(w) for w in set(s.split())}\n",
    "\n",
    "phi = extractFeatures('random string with repetititions that are random')\n",
    "phi"
   ]
  },
  {
   "attachments": {},
   "cell_type": "markdown",
   "metadata": {},
   "source": [
    "### Dot product of two sparse vectors"
   ]
  },
  {
   "cell_type": "code",
   "execution_count": 6,
   "metadata": {},
   "outputs": [
    {
     "name": "stdout",
     "output_type": "stream",
     "text": [
      "17\n"
     ]
    }
   ],
   "source": [
    "SparseVector = Dict[str, int]\n",
    "\n",
    "def dotProduct(v1: SparseVector, v2: SparseVector):\n",
    "  if len(v1) < len(v2):\n",
    "    return sum(v1[k]*v2[k] for k in v1 if k in v2)\n",
    "  else: \n",
    "    return sum(v1[k]*v2[k] for k in v2 if k in v1)\n",
    "\n",
    "v1 = {'bye': 4, 'cool': 3}\n",
    "v2 = {'hello': 1, 'bye': 2, 'cool': 3}\n",
    "print(dotProduct(v2, v1))"
   ]
  },
  {
   "attachments": {},
   "cell_type": "markdown",
   "metadata": {},
   "source": [
    "### Increment weights"
   ]
  },
  {
   "cell_type": "code",
   "execution_count": 7,
   "metadata": {},
   "outputs": [],
   "source": [
    "def increment(weights: SparseVector, scale: float, v: SparseVector):\n",
    "  for k in v:\n",
    "    if k in weights:\n",
    "      weights[k] += scale * v[k]\n",
    "    else:\n",
    "      weights[k] = scale * v[k]"
   ]
  },
  {
   "attachments": {},
   "cell_type": "markdown",
   "metadata": {},
   "source": [
    "# Quick mafs"
   ]
  },
  {
   "cell_type": "code",
   "execution_count": 66,
   "metadata": {},
   "outputs": [],
   "source": [
    "weights = {} # features=>weights or more simply words=>weights\n",
    "eta = 0.01\n",
    "\n",
    "for t in range(20):\n",
    "  for x, y in training_data:\n",
    "    phi = extractFeatures(x)\n",
    "    tmp = dotProduct(weights, phi) * y\n",
    "    if tmp < 1:\n",
    "      increment(weights, -eta*-y, phi)\n",
    " "
   ]
  },
  {
   "cell_type": "code",
   "execution_count": 67,
   "metadata": {},
   "outputs": [],
   "source": [
    "with open('weights.txt', 'w') as f:\n",
    "  sorted_weights = sorted(weights, key=weights.get)\n",
    "  for word in sorted_weights:\n",
    "    f.write(word + ' ' + str(weights[word]) + '\\n')"
   ]
  },
  {
   "attachments": {},
   "cell_type": "markdown",
   "metadata": {},
   "source": [
    "### Predict the sentiment of a sentence"
   ]
  },
  {
   "cell_type": "code",
   "execution_count": 114,
   "metadata": {},
   "outputs": [
    {
     "data": {
      "text/plain": [
       "1"
      ]
     },
     "execution_count": 114,
     "metadata": {},
     "output_type": "execute_result"
    }
   ],
   "source": [
    "def predict(x: str):\n",
    "  phi = extractFeatures(x)\n",
    "  if dotProduct(weights, phi) < 0:\n",
    "    return -1\n",
    "  else:\n",
    "    return 1\n",
    "\n",
    "predict('This has a positive score, very good')"
   ]
  },
  {
   "attachments": {},
   "cell_type": "markdown",
   "metadata": {},
   "source": [
    "### Evalute the predictor"
   ]
  },
  {
   "cell_type": "code",
   "execution_count": 187,
   "metadata": {},
   "outputs": [
    {
     "name": "stdout",
     "output_type": "stream",
     "text": [
      "The error rate is:  0.04248733821046708\n",
      "[-1.2400000000000009, -0.07, 0.09999999999999999]\n",
      "['boring', 'veljohnson', 'dong']\n"
     ]
    },
    {
     "data": {
      "text/plain": [
       "[<matplotlib.lines.Line2D at 0x7f11d93c52d0>]"
      ]
     },
     "execution_count": 187,
     "metadata": {},
     "output_type": "execute_result"
    },
    {
     "data": {
      "image/png": "[encoded data removed]",
      "text/plain": [
       "<Figure size 640x480 with 1 Axes>"
      ]
     },
     "metadata": {},
     "output_type": "display_data"
    }
   ],
   "source": [
    "def evaluatePredictor(examples, predictor): \n",
    "  error = 0\n",
    "  for x, y in examples:\n",
    "    if predictor(x) != y:\n",
    "      error += 1\n",
    "  return error / len(training_data)\n",
    "\n",
    "mean_error = evaluatePredictor(training_data, predict)\n",
    "print('The error rate is: ', mean_error)\n",
    "\n",
    "y_array = []\n",
    "xs = sorted_weights[::4000]\n",
    "for my_x in xs:\n",
    "  y_array.append(weights[my_x])\n",
    "\n",
    "print(y_array)\n",
    "print(xs)\n",
    "\n",
    "plt.ylim(ymax=1, ymin=-2)\n",
    "plt.ylabel('score')\n",
    "plt.xlabel('word')\n",
    "plt.plot(xs, y_array)"
   ]
  }
 ],
 "metadata": {
  "kernelspec": {
   "display_name": "Python 3",
   "language": "python",
   "name": "python3"
  },
  "language_info": {
   "codemirror_mode": {
    "name": "ipython",
    "version": 3
   },
   "file_extension": ".py",
   "mimetype": "text/x-python",
   "name": "python",
   "nbconvert_exporter": "python",
   "pygments_lexer": "ipython3",
   "version": "3.10.6"
  },
  "orig_nbformat": 4,
  "vscode": {
   "interpreter": {
    "hash": "97cc609b13305c559618ec78a438abc56230b9381f827f22d070313b9a1f3777"
   }
  }
 },
 "nbformat": 4,
 "nbformat_minor": 2
}
