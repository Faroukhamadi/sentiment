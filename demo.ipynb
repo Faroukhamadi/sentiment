{
 "cells": [
  {
   "attachments": {},
   "cell_type": "markdown",
   "metadata": {},
   "source": [
    "# *Sentiment Analysis of Movie Reviews*"
   ]
  },
  {
   "cell_type": "code",
   "execution_count": 171,
   "metadata": {},
   "outputs": [],
   "source": [
    "import numpy as np\n",
    "import matplotlib.pyplot as plt\n",
    "from numpy.typing import NDArray\n",
    "from typing import List, Tuple, Dict"
   ]
  },
  {
   "cell_type": "code",
   "execution_count": 155,
   "metadata": {},
   "outputs": [],
   "source": [
    "Data = List[Tuple[str, int]]\n",
    "def load_data(path: str) -> Data:\n",
    "  data = open(path, encoding='latin-1').read().splitlines() \n",
    "  training_data: Data = []\n",
    "  for sentence in data:\n",
    "    training_data.append((sentence[3:], int(sentence[:2])))\n",
    "  return training_data"
   ]
  },
  {
   "attachments": {},
   "cell_type": "markdown",
   "metadata": {},
   "source": [
    "### Benchmarking load_data function"
   ]
  },
  {
   "cell_type": "code",
   "execution_count": 157,
   "metadata": {},
   "outputs": [
    {
     "data": {
      "text/plain": [
       "1.386632839043159"
      ]
     },
     "execution_count": 157,
     "metadata": {},
     "output_type": "execute_result"
    }
   ],
   "source": [
    "import timeit\n",
    "timeit.timeit(\"load_data('polarity.train')\", globals=locals(), number=1000)"
   ]
  },
  {
   "attachments": {},
   "cell_type": "markdown",
   "metadata": {},
   "source": [
    "### Load training data"
   ]
  },
  {
   "cell_type": "code",
   "execution_count": 161,
   "metadata": {
    "tags": []
   },
   "outputs": [],
   "source": [
    "training_data = load_data('polarity.train')"
   ]
  },
  {
   "attachments": {},
   "cell_type": "markdown",
   "metadata": {},
   "source": [
    "### Represent $\\phi(x)$ as mapping from word $x$ to number of times it appears in the sentence, $\\phi(x) = \\{x_1: n_1, x_2: n_2, \\dots, x_n: n_n\\}$"
   ]
  },
  {
   "cell_type": "code",
   "execution_count": 176,
   "metadata": {
    "tags": []
   },
   "outputs": [
    {
     "data": {
      "text/plain": [
       "{'string': 1, 'are': 1, 'with': 1, 'random': 2, 'that': 1, 'repetititions': 1}"
      ]
     },
     "execution_count": 176,
     "metadata": {},
     "output_type": "execute_result"
    }
   ],
   "source": [
    "def extractFeatures(s: str) -> Dict[str, int]:\n",
    "  return {w: s.count(w) for w in set(s.split())}\n",
    "\n",
    "phi = extractFeatures('random string with repetititions that are random')\n",
    "phi"
   ]
  },
  {
   "attachments": {},
   "cell_type": "markdown",
   "metadata": {},
   "source": [
    "### Dot product of two sparse vectors"
   ]
  },
  {
   "cell_type": "code",
   "execution_count": 247,
   "metadata": {},
   "outputs": [
    {
     "name": "stdout",
     "output_type": "stream",
     "text": [
      "3\n",
      "2\n",
      "here2\n",
      "17\n"
     ]
    }
   ],
   "source": [
    "SparseVector = Dict[str, int]\n",
    "\n",
    "def dotProduct(v1: SparseVector, v2: SparseVector):\n",
    "  if len(v1) < len(v2):\n",
    "    print('here1')\n",
    "    return sum(v1[k]*v2[k] for k in v1 if k in v2)\n",
    "  else: \n",
    "    print(f'{len(v1)}')\n",
    "    print(f'{len(v2)}')\n",
    "    print('here2')\n",
    "    for k in v1:\n",
    "      print(v1[k])\n",
    "    return sum(v1[k]*v2[k] for k in v2 if k in v1)\n",
    "\n",
    "v1 = {'bye': 4, 'cool': 3}\n",
    "v2 = {'hello': 1, 'bye': 2, 'cool': 3}\n",
    "print(dotProduct(v2, v1))"
   ]
  },
  {
   "attachments": {},
   "cell_type": "markdown",
   "metadata": {},
   "source": [
    "### Increment weights"
   ]
  },
  {
   "cell_type": "code",
   "execution_count": 241,
   "metadata": {},
   "outputs": [],
   "source": [
    "def increment(weights: SparseVector, scale: float, v: SparseVector):\n",
    "  for k in v:\n",
    "    print(f'{k=}')\n",
    "    if k in weights:\n",
    "      weights[k] += scale * v[k]\n",
    "    else:\n",
    "      weights[k] = scale * v[k]"
   ]
  },
  {
   "cell_type": "code",
   "execution_count": 253,
   "metadata": {},
   "outputs": [
    {
     "name": "stdout",
     "output_type": "stream",
     "text": [
      "phi={',': 2, 'poetic': 1, 'dull': 1, 'sadly': 1, 'and': 1, '.': 1, 'earnest': 1, \"everything's\": 1, '--': 2, 'serious': 1}\n",
      "here1\n",
      "k=','\n",
      "k='poetic'\n",
      "k='dull'\n",
      "k='sadly'\n",
      "k='and'\n",
      "k='.'\n",
      "k='earnest'\n",
      "k=\"everything's\"\n",
      "k='--'\n",
      "k='serious'\n",
      "weights={',': -1.0, 'poetic': -0.5, 'dull': -0.5, 'sadly': -0.5, 'and': -0.5, '.': -0.5, 'earnest': -0.5, \"everything's\": -0.5, '--': -1.0, 'serious': -0.5}\n",
      "phi={',': 1, 'day': 1, 'every': 1, 'trouble': 1, 'narratively': 1, 'a': 4, 'plodding': 1, 'mess': 1, '.': 1, 'is': 1}\n",
      "10\n",
      "10\n",
      "here2\n"
     ]
    },
    {
     "ename": "KeyError",
     "evalue": "'day'",
     "output_type": "error",
     "traceback": [
      "\u001b[0;31m---------------------------------------------------------------------------\u001b[0m",
      "\u001b[0;31mKeyError\u001b[0m                                  Traceback (most recent call last)",
      "Cell \u001b[0;32mIn[253], line 8\u001b[0m\n\u001b[1;32m      6\u001b[0m phi \u001b[39m=\u001b[39m extractFeatures(x)\n\u001b[1;32m      7\u001b[0m \u001b[39mprint\u001b[39m(\u001b[39mf\u001b[39m\u001b[39m'\u001b[39m\u001b[39m{\u001b[39;00mphi\u001b[39m=}\u001b[39;00m\u001b[39m'\u001b[39m)\n\u001b[0;32m----> 8\u001b[0m tmp \u001b[39m=\u001b[39m dotProduct(weights, phi) \u001b[39m*\u001b[39m y\n\u001b[1;32m      9\u001b[0m \u001b[39mif\u001b[39;00m tmp \u001b[39m<\u001b[39m \u001b[39m1\u001b[39m:\n\u001b[1;32m     10\u001b[0m   increment(weights, \u001b[39m-\u001b[39meta\u001b[39m*\u001b[39m\u001b[39m-\u001b[39my, phi)\n",
      "Cell \u001b[0;32mIn[247], line 11\u001b[0m, in \u001b[0;36mdotProduct\u001b[0;34m(v1, v2)\u001b[0m\n\u001b[1;32m      9\u001b[0m \u001b[39mprint\u001b[39m(\u001b[39mf\u001b[39m\u001b[39m'\u001b[39m\u001b[39m{\u001b[39;00m\u001b[39mlen\u001b[39m(v2)\u001b[39m}\u001b[39;00m\u001b[39m'\u001b[39m)\n\u001b[1;32m     10\u001b[0m \u001b[39mprint\u001b[39m(\u001b[39m'\u001b[39m\u001b[39mhere2\u001b[39m\u001b[39m'\u001b[39m)\n\u001b[0;32m---> 11\u001b[0m \u001b[39mreturn\u001b[39;00m \u001b[39msum\u001b[39;49m(v1[k]\u001b[39m*\u001b[39;49mv2[k] \u001b[39mfor\u001b[39;49;00m k \u001b[39min\u001b[39;49;00m v2 \u001b[39mif\u001b[39;49;00m v1[k])\n",
      "Cell \u001b[0;32mIn[247], line 11\u001b[0m, in \u001b[0;36m<genexpr>\u001b[0;34m(.0)\u001b[0m\n\u001b[1;32m      9\u001b[0m \u001b[39mprint\u001b[39m(\u001b[39mf\u001b[39m\u001b[39m'\u001b[39m\u001b[39m{\u001b[39;00m\u001b[39mlen\u001b[39m(v2)\u001b[39m}\u001b[39;00m\u001b[39m'\u001b[39m)\n\u001b[1;32m     10\u001b[0m \u001b[39mprint\u001b[39m(\u001b[39m'\u001b[39m\u001b[39mhere2\u001b[39m\u001b[39m'\u001b[39m)\n\u001b[0;32m---> 11\u001b[0m \u001b[39mreturn\u001b[39;00m \u001b[39msum\u001b[39m(v1[k]\u001b[39m*\u001b[39mv2[k] \u001b[39mfor\u001b[39;00m k \u001b[39min\u001b[39;00m v2 \u001b[39mif\u001b[39;00m v1[k])\n",
      "\u001b[0;31mKeyError\u001b[0m: 'day'"
     ]
    }
   ],
   "source": [
    "weights = {} # features=>weights or more simply words=>weights\n",
    "eta = 0.5\n",
    "\n",
    "for t in range(100):\n",
    "  for x, y in training_data:\n",
    "    phi = extractFeatures(x)\n",
    "    print(f'{phi=}')\n",
    "    tmp = dotProduct(weights, phi) * y\n",
    "    if tmp < 1:\n",
    "      increment(weights, -eta*-y, phi)\n",
    "    print(f'{weights=}')"
   ]
  }
 ],
 "metadata": {
  "kernelspec": {
   "display_name": "Python 3",
   "language": "python",
   "name": "python3"
  },
  "language_info": {
   "codemirror_mode": {
    "name": "ipython",
    "version": 3
   },
   "file_extension": ".py",
   "mimetype": "text/x-python",
   "name": "python",
   "nbconvert_exporter": "python",
   "pygments_lexer": "ipython3",
   "version": "3.10.6"
  },
  "orig_nbformat": 4,
  "vscode": {
   "interpreter": {
    "hash": "97cc609b13305c559618ec78a438abc56230b9381f827f22d070313b9a1f3777"
   }
  }
 },
 "nbformat": 4,
 "nbformat_minor": 2
}
